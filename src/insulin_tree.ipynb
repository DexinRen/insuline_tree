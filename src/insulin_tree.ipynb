{
 "cells": [
  {
   "cell_type": "code",
   "execution_count": 100,
   "metadata": {},
   "outputs": [],
   "source": [
    "import re"
   ]
  },
  {
   "cell_type": "markdown",
   "metadata": {},
   "source": [
    "## Data Importation:"
   ]
  },
  {
   "cell_type": "code",
   "execution_count": 99,
   "metadata": {},
   "outputs": [],
   "source": [
    "'''\n",
    "    Description: This data structure is used to save insulin gene sequence and their relative info.\n",
    "    Attributes :\n",
    "        id: the gene id of the insulin gene given by NCBI dataset\n",
    "        name: the organism of the gene sequence\n",
    "        seq: the insulin gene sequence in string \n",
    "'''\n",
    "class gene:\n",
    "    def __init__(self, name, id, sequence):\n",
    "        self.id = id  \n",
    "        self.name = name      \n",
    "        self.seq = sequence"
   ]
  },
  {
   "cell_type": "code",
   "execution_count": 106,
   "metadata": {},
   "outputs": [],
   "source": [
    "def data_reader(path):\n",
    "    gene_list = []\n",
    "    f = open(path, \"r\")\n",
    "    line = f.readline()\n",
    "    gene_temp = None\n",
    "    while line != \"\":\n",
    "        line = line.replace('\\n', '')\n",
    "        if line[0] == '>':\n",
    "            info = re.split(r\"\\[|\\]|=\",line)\n",
    "            gene_temp = gene(info[2],info[5],\"\")\n",
    "            gene_list.append(gene_temp)\n",
    "\n",
    "        else:\n",
    "            gene_temp.seq = gene_temp.seq + line\n",
    "        line = f.readline()\n",
    "    f.close()\n",
    "    return gene_list"
   ]
  },
  {
   "cell_type": "code",
   "execution_count": null,
   "metadata": {},
   "outputs": [],
   "source": [
    "path = \"../dataset/ncbi_dataset/data/gene.fna\"\n",
    "gene_list = data_reader(path)\n",
    "for i in gene_list:\n",
    "    print(i.name)"
   ]
  },
  {
   "cell_type": "markdown",
   "metadata": {},
   "source": [
    "## "
   ]
  },
  {
   "cell_type": "code",
   "execution_count": null,
   "metadata": {},
   "outputs": [],
   "source": []
  }
 ],
 "metadata": {
  "kernelspec": {
   "display_name": "Python 3.9.2 64-bit",
   "language": "python",
   "name": "python3"
  },
  "language_info": {
   "codemirror_mode": {
    "name": "ipython",
    "version": 3
   },
   "file_extension": ".py",
   "mimetype": "text/x-python",
   "name": "python",
   "nbconvert_exporter": "python",
   "pygments_lexer": "ipython3",
   "version": "3.9.2"
  },
  "orig_nbformat": 4,
  "vscode": {
   "interpreter": {
    "hash": "31f2aee4e71d21fbe5cf8b01ff0e069b9275f58929596ceb00d14d90e3e16cd6"
   }
  }
 },
 "nbformat": 4,
 "nbformat_minor": 2
}
